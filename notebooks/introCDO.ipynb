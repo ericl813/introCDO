{
 "cells": [
  {
   "cell_type": "markdown",
   "metadata": {},
   "source": [
    "# How to install Climate Data Operator (CDO)\n",
    "**Plus some basic examples using operators!**"
   ]
  },
  {
   "cell_type": "markdown",
   "metadata": {},
   "source": [
    "<p style=\"font-size:16px\">\n",
    "    These instructions will go over how to install CDO on Mac OS.\n",
    "    Before we continue, I assume you have installed pygrib and netCDF on your machine. These two are needed to read and write GRIB and NetCDF datasets, the two file formats of climate and forecast model data.\n",
    "    If you haven't yet, please refer to <a href=\"https://github.com/jswhit/pygrib\">here for pygrib</a> and <a href=\"https://github.com/Unidata/netcdf4-python\">here for netCDF</a>. I personally used Macports to install these two.\n",
    "</p>\n",
    "    "
   ]
  },
  {
   "cell_type": "markdown",
   "metadata": {},
   "source": [
    "## Overview\n",
    "<ul style=\"padding-left:50px;font-size:20px\">\n",
    "    <li> Option 1: Install CDO with homebrew to use through terminal directory. </li>\n",
    "    <li> Option 2: Install python-CDO with conda to use CDO operations through python. </li>\n",
    "    <li>Introduce example operations to perform on grib/netCDF files using CDO</li>\n",
    "</ul>\n",
    "<br>\n",
    "\n",
    "### Using CDO works with both option 1 and 2. However, there is a slight difference in syntax between the two. I will be using python-cdo, so if you go with the oher option, look up the appropriate syntax to use the same operator."
   ]
  },
  {
   "cell_type": "markdown",
   "metadata": {},
   "source": [
    "## Option 1: CDO directly through terminal using homebrew\n",
    "### If you already have homebrew, skip to step 5\n",
    "<ol style=\"padding-left:50px;font-size:16px\">\n",
    "    <li>Open up your terminal and run the following:</li>\n",
    "    xcode-select --install\n",
    "    <img src=\"images/xcode.jpg\" width=\"800\" height=\"600\">\n",
    "    <li>After getting xcode command line tool type the following:</li>\n",
    "    ruby -e \"$(curl -fsSL https://raw.githubusercontent.com/Homebrew/install/master/install)\"\n",
    "    <img src=\"images/brew.jpg\" width=\"800\" height=\"600\">\n",
    "    <li>You will be prompted to enter your password and press return to confirm. The download will run.</li>\n",
    "    <img src=\"images/success.jpg\" width=\"800\" height=\"600\">\n",
    "    <li>Congrats! You have now successfully installed homebrew.</li>\n",
    "    <br>\n",
    "    <li>Download the latest version of CDO <a href=\"https://code.mpimet.mpg.de/projects/cdo/files\">here.</a> </li>\n",
    "    <img src=\"images/CDOpage.jpg\"  width=\"600\" height=\"400\"> \n",
    "    <br>\n",
    "    <li>After the zip package is in your downloads, double click to unzip. A folder like cdo-X.Y.Z should be in your downloads folder now.</li>\n",
    "    <img src=\"images/CDOfolder.jpg\" width=\"600\" height=\"400\"> \n",
    "    <br>\n",
    "    <li> Open up your terminal, move the cdo folder into a directory you want to work in.</li>\n",
    "    <img src=\"images/move.png\" width=\"600\" height=\"400\"> \n",
    "    <br>\n",
    "    <li> If you already have eccodes, skip to the next step </li>\n",
    "    Do \"brew install eccodes\" in terminal. \n",
    "    <br>\n",
    "    When we run the configure script, we want to configure with eccodes. Having eccodes will allow us to work with GRIB datasets as well as netCDF datasets. \n",
    "    <br><br>\n",
    "    <li>Configure CDO with eccodes:</li>\n",
    "    ./configure --with-eccodes\n",
    "     <img src=\"images/configure.png\" width=\"600\" height=\"400\"> \n",
    "    <br><br>\n",
    "    <li>Make and make install. It will take a few minutes. </li>  \n",
    "    <img src=\"images/make.png\" width=\"600\" height=\"400\"> \n",
    "    <br><br>\n",
    "    <li>Nice, you now have CDO with eccodes. Can do operations on GRIB and netCDF files directly though the terminal! </li>\n",
    "</ol>\n",
    "<br><br>\n"
   ]
  },
  {
   "cell_type": "markdown",
   "metadata": {},
   "source": [
    "## Option 2: Install python-CDO through python with conda to use as a native Library\n",
    "### If you already have conda, skip to step 2\n",
    "<ol style=\"padding-left:50px;font-size:16px\">\n",
    "    <li> Download the latest version of conda  <a href=\"https://docs.conda.io/en/latest/miniconda.html\">here.</a></li>\n",
    "    <img src=\"images/conda.png\" width=\"600\" height=\"400\">\n",
    "    <br>\n",
    "    <li> After installing conda, type the following in terminal: </li>\n",
    "    conda install -c conda-forge python-cdo\n",
    "    <br><br>\n",
    "    <li> Now do \"pip install cdo\" </li>\n",
    "    <br>\n",
    "    <li>Now you are able to use climate data operators like it is a python library!</li>\n",
    "    <img src=\"images/pythoncdo.png\" width=\"600\" height=\"400\">\n",
    "</ol>\n",
    "<br><br>\n"
   ]
  },
  {
   "cell_type": "markdown",
   "metadata": {},
   "source": [
    "## Introduce example operations to perform on grib/netCDF files using CDO"
   ]
  },
  {
   "cell_type": "markdown",
   "metadata": {},
   "source": [
    "We need to work with a GRIB or netCDF dataset. <a href=\"data\">This</a> is the one I will be using for the examples. You can use the same or another dataset. For these examples, I will be performing the code using jupyter notebooks. I will be using python-cdo, so its syntax may be a little different than CDO through terminal."
   ]
  },
  {
   "cell_type": "markdown",
   "metadata": {},
   "source": [
    "### Familiarize yourself with the data\n",
    "**1. First, let us import the libraries we need. Then set our infile variable and cdo object.**"
   ]
  },
  {
   "cell_type": "code",
   "execution_count": null,
   "metadata": {},
   "outputs": [],
   "source": [
    "from cdo import Cdo\n",
    "\n",
    "cdo = Cdo()\n",
    "infile = 'data/flux.grb'"
   ]
  },
  {
   "cell_type": "markdown",
   "metadata": {},
   "source": [
    "**2. Now, run the cell and let us see what variables are stores in this multidimensional array**"
   ]
  },
  {
   "cell_type": "code",
   "execution_count": null,
   "metadata": {},
   "outputs": [],
   "source": [
    "cdo.showname(input=infile)"
   ]
  },
  {
   "cell_type": "markdown",
   "metadata": {},
   "source": [
    "So for our variables we have precipitation rate, surface pressure, temperature max, and temperature min."
   ]
  },
  {
   "cell_type": "markdown",
   "metadata": {},
   "source": [
    "**3. With info we can see minimum, maximum, averages and any missing values.**"
   ]
  },
  {
   "cell_type": "code",
   "execution_count": null,
   "metadata": {
    "scrolled": true
   },
   "outputs": [],
   "source": [
    "cdo.info(input=infile)"
   ]
  },
  {
   "cell_type": "markdown",
   "metadata": {},
   "source": [
    "**4. With show attributes, we are able to see more information on the variables such as name, unit, and how many missing values. Missing values looks like a weird exponent, but it rounds to zero.**"
   ]
  },
  {
   "cell_type": "code",
   "execution_count": null,
   "metadata": {
    "scrolled": true
   },
   "outputs": [],
   "source": [
    "cdo.showatts(input=infile)"
   ]
  },
  {
   "cell_type": "markdown",
   "metadata": {},
   "source": [
    "**5. Let us import some things to visualize the data we just worked with. If you don't have the necessary packages, just do \"pip install package\" or \"pip3 install package\" depending if you are using python 2 or 3.** \n",
    "<br>\n",
    "**Note:** This is to visualize the pygrib files in python. If you want to visualize netCDF files click <a href=\"https://joehamman.com/2013/10/12/plotting-netCDF-data-with-Python/\">here.</a> Or, you can visualize this data using <a href=\"https://www.giss.nasa.gov/tools/panoply/\">Panoply.</a>"
   ]
  },
  {
   "cell_type": "code",
   "execution_count": null,
   "metadata": {
    "scrolled": true
   },
   "outputs": [],
   "source": [
    "import pygrib\n",
    "import matplotlib.pyplot as plt\n",
    "from mpl_toolkits.basemap import Basemap\n",
    "from mpl_toolkits.basemap import shiftgrid\n",
    "import numpy as np"
   ]
  },
  {
   "cell_type": "code",
   "execution_count": null,
   "metadata": {},
   "outputs": [],
   "source": [
    "plt.figure(figsize=(12,8))\n",
    "\n",
    "file = 'data/flux.grb'\n",
    "grbs = pygrib.open(file)\n",
    "# selects the variable at index 2, Max Temperature\n",
    "grb = grbs.select()[2]\n",
    "# Play around with the index to see the different plots\n",
    "# index 0 -> Precipitation rate\n",
    "# index 1 -> Surface Pressure\n",
    "# index 2 -> Maximum temperature\n",
    "# index 3 -> Minimum temperature\n",
    "data = grb.values\n",
    "\n",
    "lons = np.linspace(float(grb['longitudeOfFirstGridPointInDegrees']), \\\n",
    "float(grb['longitudeOfLastGridPointInDegrees']), int(grb['Ni']) )\n",
    "lats = np.linspace(float(grb['latitudeOfFirstGridPointInDegrees']), \\\n",
    "float(grb['latitudeOfLastGridPointInDegrees']), int(grb['Nj']) )\n",
    "data, lons = shiftgrid(180., data, lons, start=False)\n",
    "grid_lon, grid_lat = np.meshgrid(lons, lats) #regularly spaced 2D grid\n",
    " \n",
    "m = Basemap(projection='cyl', llcrnrlon=-180, \\\n",
    "    urcrnrlon=180.,llcrnrlat=lats.min(),urcrnrlat=lats.max(), \\\n",
    "    resolution='c')\n",
    " \n",
    "x, y = m(grid_lon, grid_lat)\n",
    " \n",
    "cs = m.pcolormesh(x,y,data,shading='flat',cmap=plt.cm.gist_stern_r)\n",
    " \n",
    "m.drawcoastlines()\n",
    "m.drawmapboundary()\n",
    "m.drawparallels(np.arange(-90.,120.,30.),labels=[1,0,0,0])\n",
    "m.drawmeridians(np.arange(-180.,180.,60.),labels=[0,0,0,1])\n",
    " \n",
    "plt.colorbar(cs,orientation='vertical', shrink=0.5)\n",
    "plt.title(grb) # Set the name of the variable to plot\n",
    "plt.savefig(infile+'.png') # Set the output file name"
   ]
  },
  {
   "cell_type": "markdown",
   "metadata": {},
   "source": [
    "**Great, now you have the packages install to use CDO. Furthemore, there is a manual of <a href=\"https://code.mpimet.mpg.de/projects/cdo/embedded/cdo.pdf\">CDO operators</a>.**"
   ]
  }
 ],
 "metadata": {
  "kernelspec": {
   "display_name": "Python 3",
   "language": "python",
   "name": "python3"
  },
  "language_info": {
   "codemirror_mode": {
    "name": "ipython",
    "version": 3
   },
   "file_extension": ".py",
   "mimetype": "text/x-python",
   "name": "python",
   "nbconvert_exporter": "python",
   "pygments_lexer": "ipython3",
   "version": "3.8.0"
  }
 },
 "nbformat": 4,
 "nbformat_minor": 4
}
