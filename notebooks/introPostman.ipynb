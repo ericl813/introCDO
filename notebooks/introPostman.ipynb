{
 "cells": [
  {
   "cell_type": "markdown",
   "metadata": {},
   "source": [
    "# Getting started with postman"
   ]
  },
  {
   "cell_type": "markdown",
   "metadata": {},
   "source": [
    "<p style=\"font-size:16px\">\n",
    "    These instructions will go over working with Postman. We will go over how to connect to a web api and send requests to an API. First, let us be able to use postman.\n",
    "If you want to use the application, you need a postman app. But if you want to use postman in your web browser, you need a postman agent. Either way, you need to download one, click below: <br><br> <a href=\"https://www.postman.com/downloads/\"><img src=\"images/postmanDownload.png\" width=\"600\" height=\"400\"></a> \n",
    "</p>"
   ]
  },
  {
   "cell_type": "markdown",
   "metadata": {},
   "source": [
    "## Connecting to a web API\n",
    "<ul style=\"padding-left:50px;font-size:20px\">\n",
    "    Usually, when working with APIs, it is common to refer to APIS as web APIs because they are most common. Let us connect to a web API (get a url). \n",
    "</ul>\n",
    "\n",
    "<ol style=\"padding-left:50px;font-size:16px\">\n",
    "    <li>Follow <a href=\"https://programminghistorian.org/en/lessons/creating-apis-with-python-and-flask\">this link</a> if you do not have an API url but need to build API yourself. Otherwise, skip to the next section, Sending requests to an API</li>\n",
    "    <a href=\"https://programminghistorian.org/en/lessons/creating-apis-with-python-and-flask\"><img src=\"images/flaskWebsite.png\" width=\"360\" height=\"240\"></a> \n",
    "    <br><br>\n",
    "    <li>Now you should have a url that looks like the following: http://127.0.0.1:5000/ and you have defined other sub-urls with any path parameters such as http://127.0.0.1:5000/api/stationdata in my case.</li>\n",
    "    <br><br>\n",
    "    <li>Hopefully you have defined some of your variables as query parameters like I did below:</li>\n",
    "    <img src=\"images/queryParameters.png\" width=\"480\" height=\"240\">\n",
    "    <br><br>\n",
    "    <li>Now you have a working web api url and you can use path parameters and query paramters to send requests to the API!</li>\n",
    "</ol>\n",
    "\n",
    "## Sending requests to an API\n",
    "<ul style=\"padding-left:50px;font-size:20px\">\n",
    "    You can send requests in Postman to connect to web APIs. We will send HTML requests to to that url. Your requests can retrieve, add, delete, and update data. In essence these requests are named GET, POST, DELETE, and PUT respectively. \n",
    "</ul>\n",
    "<br>\n",
    "<ol style=\"padding-left:50px;font-size:16px\">\n",
    "    <li>GET request</li> <br>GET is used to request data from an api. It consists of an endpoint (the uri you want to communicate with) and parameters, namely path parameters and query parameters. In general, Path parameters identify a specific resource(s) whereas Query Parameter is used to sort/filter those resource(s).\n",
    "    <img src=\"images/getrequest.jpg\" width=\"480\" height=\"240\">\n",
    "    <br>\n",
    "    Below is my GET request with my localhost web api that has its defined query parameters and in response I get a CSV format I returned in my flask and python application.\n",
    "    <img src=\"images/getData.png\" width=\"640\" height=\"480\">\n",
    "    <br><br>\n",
    "    <li>POST request</li> <br>POST will let you send data to an API. It is good for creating a new record in a database. A POST request consists of the endpoint and body. A body is some type of data (JSON, text, binary, etc.) that ideally the API would use to add a new record to a data source such as a database.\n",
    "    <img src=\"images/postrequest.jpg\" width=\"480\" height=\"240\">\n",
    "    <br><br>\n",
    "    <li>PUT request </li> <br> A PUT request is similar to POST except that it is idempotent, which means that if we have an existing record, we do not create a new one. It is better to use PUT when we do not want duplicate keys or want to modify things instead of creating a new record. It may be a good idea to either use only POST or only PUT depending on the data format.\n",
    "    <br><br>\n",
    "    <li>DELETE request </li> <br> A DELETE request is used to delete a resource identified by a URI, or the resource at the endpoint.\n",
    "    <br><br>\n",
    "    <a href=\"https://www.postman.com/explore/template/7499/learn-by-api\">Here</a> is a helpful resource to learn a couple of the above requests in Postman.\n",
    "</ol>\n",
    "<br><br>\n",
    "<a style=\"font-size:20px\" href=\"https://learning.postman.com/docs/designing-and-developing-your-api/the-api-workflow/\n",
    "\">Here is more information on how to build and create APIs in Postman.</a> "
   ]
  }
 ],
 "metadata": {
  "kernelspec": {
   "display_name": "Python 3",
   "language": "python",
   "name": "python3"
  },
  "language_info": {
   "codemirror_mode": {
    "name": "ipython",
    "version": 3
   },
   "file_extension": ".py",
   "mimetype": "text/x-python",
   "name": "python",
   "nbconvert_exporter": "python",
   "pygments_lexer": "ipython3",
   "version": "3.8.0"
  }
 },
 "nbformat": 4,
 "nbformat_minor": 4
}
